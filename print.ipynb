{
 "metadata": {
  "name": ""
 },
 "nbformat": 3,
 "nbformat_minor": 0,
 "worksheets": [
  {
   "cells": [
    {
     "cell_type": "markdown",
     "metadata": {},
     "source": [
      "Sean Barberie | 2/3/14 | GEOS-430"
     ]
    },
    {
     "cell_type": "markdown",
     "metadata": {},
     "source": [
      "<u>Homework Assignment 1: Stem Leaf Plots and Box Plots</u>\n",
      "---"
     ]
    },
    {
     "cell_type": "code",
     "collapsed": false,
     "input": [
      "%pylab inline\n",
      "import numpy as np\n",
      "import matplotlib.pyplot as plt"
     ],
     "language": "python",
     "metadata": {},
     "outputs": [
      {
       "output_type": "stream",
       "stream": "stdout",
       "text": [
        "Populating the interactive namespace from numpy and matplotlib\n"
       ]
      }
     ],
     "prompt_number": 5
    },
    {
     "cell_type": "code",
     "collapsed": false,
     "input": [
      "bmi = [22.8, 14.0, 17.5, 13.2, 13.5, 13.7, 14.4, 15.5, 14.5, 24.5, 15.4, 14.8, 20.6, 17.6, 17.3, 15.7, 16.0, 15.5, 16.3, 15.7, 16.2]"
     ],
     "language": "python",
     "metadata": {},
     "outputs": [],
     "prompt_number": 6
    },
    {
     "cell_type": "code",
     "collapsed": false,
     "input": [
      "count = range(21)"
     ],
     "language": "python",
     "metadata": {},
     "outputs": [],
     "prompt_number": 7
    },
    {
     "cell_type": "code",
     "collapsed": false,
     "input": [
      "bmi"
     ],
     "language": "python",
     "metadata": {},
     "outputs": [
      {
       "metadata": {},
       "output_type": "pyout",
       "prompt_number": 8,
       "text": [
        "[22.8,\n",
        " 14.0,\n",
        " 17.5,\n",
        " 13.2,\n",
        " 13.5,\n",
        " 13.7,\n",
        " 14.4,\n",
        " 15.5,\n",
        " 14.5,\n",
        " 24.5,\n",
        " 15.4,\n",
        " 14.8,\n",
        " 20.6,\n",
        " 17.6,\n",
        " 17.3,\n",
        " 15.7,\n",
        " 16.0,\n",
        " 15.5,\n",
        " 16.3,\n",
        " 15.7,\n",
        " 16.2]"
       ]
      }
     ],
     "prompt_number": 8
    },
    {
     "cell_type": "code",
     "collapsed": false,
     "input": [
      "count"
     ],
     "language": "python",
     "metadata": {},
     "outputs": [
      {
       "metadata": {},
       "output_type": "pyout",
       "prompt_number": 9,
       "text": [
        "[0, 1, 2, 3, 4, 5, 6, 7, 8, 9, 10, 11, 12, 13, 14, 15, 16, 17, 18, 19, 20]"
       ]
      }
     ],
     "prompt_number": 9
    },
    {
     "cell_type": "markdown",
     "metadata": {},
     "source": [
      "a. Stem and Leaf Plot of the data\n",
      "---"
     ]
    },
    {
     "cell_type": "code",
     "collapsed": false,
     "input": [
      "arr = np.array(bmi)\n",
      "print(np.sort(arr))"
     ],
     "language": "python",
     "metadata": {},
     "outputs": [
      {
       "output_type": "stream",
       "stream": "stdout",
       "text": [
        "[ 13.2  13.5  13.7  14.   14.4  14.5  14.8  15.4  15.5  15.5  15.7  15.7\n",
        "  16.   16.2  16.3  17.3  17.5  17.6  20.6  22.8  24.5]\n"
       ]
      }
     ],
     "prompt_number": 10
    },
    {
     "cell_type": "markdown",
     "metadata": {},
     "source": [
      "\n",
      "\n",
      "13 | 2 5 7\n",
      "\n",
      "14 | 0 4 5 8\n",
      "\n",
      "15 | 4 5 5 7 7\n",
      "\n",
      "16 | 0 2 3 \n",
      "\n",
      "17 | 3 5 6\n",
      "\n",
      "18 |\n",
      "\n",
      "19 |\n",
      "\n",
      "20 | 8\n",
      "\n",
      "21 |\n",
      "\n",
      "22 | 8\n",
      "\n",
      "\n",
      "23 |\n",
      "\n",
      "24 | 5\n"
     ]
    },
    {
     "cell_type": "code",
     "collapsed": false,
     "input": [
      "depths = ['1-3', '4-7', '8-12', '13-15', '16-18', '18', '18', '19', '19', '20', '20', '21']\n",
      "depths = np.array(depths)"
     ],
     "language": "python",
     "metadata": {},
     "outputs": [],
     "prompt_number": 24
    },
    {
     "cell_type": "markdown",
     "metadata": {},
     "source": [
      "b. Description of the Data\n",
      "---"
     ]
    },
    {
     "cell_type": "code",
     "collapsed": false,
     "input": [
      "hist(arr, alpha=0.5, color='black')"
     ],
     "language": "python",
     "metadata": {},
     "outputs": [
      {
       "metadata": {},
       "output_type": "pyout",
       "prompt_number": 194,
       "text": [
        "(array([ 4.,  4.,  7.,  3.,  0.,  0.,  1.,  0.,  1.,  1.]),\n",
        " array([ 13.2 ,  14.33,  15.46,  16.59,  17.72,  18.85,  19.98,  21.11,\n",
        "        22.24,  23.37,  24.5 ]),\n",
        " <a list of 10 Patch objects>)"
       ]
      },
      {
       "metadata": {},
       "output_type": "display_data",
       "png": "[encoded data removed]",
       "text": [
        "<matplotlib.figure.Figure at 0x9fb8668>"
       ]
      }
     ],
     "prompt_number": 194
    },
    {
     "cell_type": "markdown",
     "metadata": {},
     "source": [
      "This data set is almost too small for a histogram, but it does clearly show that the distribution is not symmetric. The left side looks almost Gaussian; it is possible that of the points to the right are outliers. It shows better on the Stem and Leaf plot (above) than on the Histogram, but it looks like the 24.5 BMI seems especially likely to be an outlier."
     ]
    },
    {
     "cell_type": "markdown",
     "metadata": {},
     "source": [
      "c. Letter Value Display\n",
      "---"
     ]
    },
    {
     "cell_type": "code",
     "collapsed": false,
     "input": [
      "22.0*(3.0/4)"
     ],
     "language": "python",
     "metadata": {},
     "outputs": [
      {
       "metadata": {},
       "output_type": "pyout",
       "prompt_number": 29,
       "text": [
        "16.5"
       ]
      }
     ],
     "prompt_number": 29
    },
    {
     "cell_type": "code",
     "collapsed": false,
     "input": [
      "22.0/4"
     ],
     "language": "python",
     "metadata": {},
     "outputs": [
      {
       "metadata": {},
       "output_type": "pyout",
       "prompt_number": 30,
       "text": [
        "5.5"
       ]
      }
     ],
     "prompt_number": 30
    },
    {
     "cell_type": "code",
     "collapsed": false,
     "input": [
      "depths"
     ],
     "language": "python",
     "metadata": {},
     "outputs": [
      {
       "metadata": {},
       "output_type": "pyout",
       "prompt_number": 25,
       "text": [
        "array(['1-3', '4-7', '8-12', '13-15', '16-18', '18', '18', '19', '19',\n",
        "       '20', '20', '21'], \n",
        "      dtype='|S5')"
       ]
      }
     ],
     "prompt_number": 25
    },
    {
     "cell_type": "code",
     "collapsed": false,
     "input": [
      "arr"
     ],
     "language": "python",
     "metadata": {},
     "outputs": [
      {
       "metadata": {},
       "output_type": "pyout",
       "prompt_number": 34,
       "text": [
        "array([ 22.8,  14. ,  17.5,  13.2,  13.5,  13.7,  14.4,  15.5,  14.5,\n",
        "        24.5,  15.4,  14.8,  20.6,  17.6,  17.3,  15.7,  16. ,  15.5,\n",
        "        16.3,  15.7,  16.2])"
       ]
      }
     ],
     "prompt_number": 34
    },
    {
     "cell_type": "code",
     "collapsed": false,
     "input": [
      "min(arr)"
     ],
     "language": "python",
     "metadata": {},
     "outputs": [
      {
       "metadata": {},
       "output_type": "pyout",
       "prompt_number": 35,
       "text": [
        "13.199999999999999"
       ]
      }
     ],
     "prompt_number": 35
    },
    {
     "cell_type": "code",
     "collapsed": false,
     "input": [
      "max(arr)"
     ],
     "language": "python",
     "metadata": {},
     "outputs": [
      {
       "metadata": {},
       "output_type": "pyout",
       "prompt_number": 36,
       "text": [
        "24.5"
       ]
      }
     ],
     "prompt_number": 36
    },
    {
     "cell_type": "markdown",
     "metadata": {},
     "source": [
      "<table>\n",
      "<tr>\n",
      "<th>Letter</th>\n",
      "<th>Depth</th>\n",
      "<th>Lower</th>\n",
      "<th>Median</th>\n",
      "<th>Upper</th>\n",
      "<th>Mid</th>\n",
      "<th>Spread</th>\n",
      "</tr>\n",
      "<tr>\n",
      "<td>M</td>\n",
      "<td>11</td>\n",
      "<td></td>\n",
      "<td>15.7</td>\n",
      "<td></td>\n",
      "<td>15.7</td>\n",
      "<td></td>\n",
      "</tr>\n",
      "<tr>\n",
      "<td>Q</td>\n",
      "<td>5.5 and 16.5</td>\n",
      "<td>14.45</td>\n",
      "<td></td>\n",
      "<td>17.4</td>\n",
      "<td>15.925</td>\n",
      "<td>2.95</td>\n",
      "</tr>\n",
      "<tr>\n",
      "<td>1 (extreme)</td>\n",
      "<td>1 and 21</td>\n",
      "<td>13.2</td>\n",
      "<td></td>\n",
      "<td>24.5</td>\n",
      "<td>18.85</td>\n",
      "<td>11.3</td>\n",
      "</tr>\n",
      "</table>"
     ]
    },
    {
     "cell_type": "markdown",
     "metadata": {},
     "source": [
      "d. Calculating Outlier Statistics\n",
      "---\n"
     ]
    },
    {
     "cell_type": "markdown",
     "metadata": {},
     "source": [
      "<b><u>Resulting Statistics</u></b>"
     ]
    },
    {
     "cell_type": "markdown",
     "metadata": {},
     "source": [
      "* <b>The lower inner fence is 10.025, calculate the upper inner fence: "
     ]
    },
    {
     "cell_type": "code",
     "collapsed": false,
     "input": [
      "IQR = 17.4-14.45\n",
      "IQR"
     ],
     "language": "python",
     "metadata": {},
     "outputs": [
      {
       "metadata": {},
       "output_type": "pyout",
       "prompt_number": 127,
       "text": [
        "2.9499999999999993"
       ]
      }
     ],
     "prompt_number": 127
    },
    {
     "cell_type": "code",
     "collapsed": false,
     "input": [
      "Q1 = 14.45\n",
      "Q3 = 17.4\n",
      "LIF = Q1-(1.5*IQR)\n",
      "LIF"
     ],
     "language": "python",
     "metadata": {},
     "outputs": [
      {
       "metadata": {},
       "output_type": "pyout",
       "prompt_number": 132,
       "text": [
        "10.025"
       ]
      }
     ],
     "prompt_number": 132
    },
    {
     "cell_type": "code",
     "collapsed": false,
     "input": [
      "UIF = Q3+(1.5*IQR)\n",
      "print UIF"
     ],
     "language": "python",
     "metadata": {},
     "outputs": [
      {
       "output_type": "stream",
       "stream": "stdout",
       "text": [
        "21.825\n"
       ]
      }
     ],
     "prompt_number": 136
    },
    {
     "cell_type": "markdown",
     "metadata": {},
     "source": [
      "- <b>Answer: UIF = 21.825</b>"
     ]
    },
    {
     "cell_type": "markdown",
     "metadata": {},
     "source": [
      "* <b> The lower outer fence is 5.600, calculate the upper outer fence:"
     ]
    },
    {
     "cell_type": "code",
     "collapsed": false,
     "input": [
      "LOF = Q1 - 3*IQR\n",
      "LOF"
     ],
     "language": "python",
     "metadata": {},
     "outputs": [
      {
       "metadata": {},
       "output_type": "pyout",
       "prompt_number": 141,
       "text": [
        "5.600000000000001"
       ]
      }
     ],
     "prompt_number": 141
    },
    {
     "cell_type": "code",
     "collapsed": false,
     "input": [
      "UOF = Q3 + 3*IQR\n",
      "print UOF"
     ],
     "language": "python",
     "metadata": {},
     "outputs": [
      {
       "output_type": "stream",
       "stream": "stdout",
       "text": [
        "26.25\n"
       ]
      }
     ],
     "prompt_number": 142
    },
    {
     "cell_type": "markdown",
     "metadata": {},
     "source": [
      "- <b>Answer: UOF = 26.25 </b>"
     ]
    },
    {
     "cell_type": "markdown",
     "metadata": {},
     "source": [
      "* <b> What is the upper adjacent value? <b></b>"
     ]
    },
    {
     "cell_type": "code",
     "collapsed": false,
     "input": [
      "max((arr < UIF)*arr)"
     ],
     "language": "python",
     "metadata": {},
     "outputs": [
      {
       "metadata": {},
       "output_type": "pyout",
       "prompt_number": 148,
       "text": [
        "20.600000000000001"
       ]
      }
     ],
     "prompt_number": 148
    },
    {
     "cell_type": "markdown",
     "metadata": {},
     "source": [
      "- <b>Answer: Upper Adjacent Value = 20.6</b>"
     ]
    },
    {
     "cell_type": "markdown",
     "metadata": {},
     "source": [
      "* <b>Are there any analyses that are \"outside\"? if so, which ones?"
     ]
    },
    {
     "cell_type": "code",
     "collapsed": false,
     "input": [
      "(arr > UIF)*arr"
     ],
     "language": "python",
     "metadata": {},
     "outputs": [
      {
       "metadata": {},
       "output_type": "pyout",
       "prompt_number": 152,
       "text": [
        "array([ 22.8,   0. ,   0. ,   0. ,   0. ,   0. ,   0. ,   0. ,   0. ,\n",
        "        24.5,   0. ,   0. ,   0. ,   0. ,   0. ,   0. ,   0. ,   0. ,\n",
        "         0. ,   0. ,   0. ])"
       ]
      }
     ],
     "prompt_number": 152
    },
    {
     "cell_type": "code",
     "collapsed": false,
     "input": [
      "arr < LIF"
     ],
     "language": "python",
     "metadata": {},
     "outputs": [
      {
       "metadata": {},
       "output_type": "pyout",
       "prompt_number": 153,
       "text": [
        "array([False, False, False, False, False, False, False, False, False,\n",
        "       False, False, False, False, False, False, False, False, False,\n",
        "       False, False, False], dtype=bool)"
       ]
      }
     ],
     "prompt_number": 153
    },
    {
     "cell_type": "markdown",
     "metadata": {},
     "source": [
      "- <b>Answer: Yes, 22.8 and 24.5 are outside the bounds of the inner fence."
     ]
    },
    {
     "cell_type": "markdown",
     "metadata": {},
     "source": [
      "* <b>Are there any analyses that are \"far outside\"? If so, which ones?\n"
     ]
    },
    {
     "cell_type": "code",
     "collapsed": false,
     "input": [
      "arr > UOF"
     ],
     "language": "python",
     "metadata": {},
     "outputs": [
      {
       "metadata": {},
       "output_type": "pyout",
       "prompt_number": 154,
       "text": [
        "array([False, False, False, False, False, False, False, False, False,\n",
        "       False, False, False, False, False, False, False, False, False,\n",
        "       False, False, False], dtype=bool)"
       ]
      }
     ],
     "prompt_number": 154
    },
    {
     "cell_type": "code",
     "collapsed": false,
     "input": [
      "arr < LOF"
     ],
     "language": "python",
     "metadata": {},
     "outputs": [
      {
       "metadata": {},
       "output_type": "pyout",
       "prompt_number": 156,
       "text": [
        "array([False, False, False, False, False, False, False, False, False,\n",
        "       False, False, False, False, False, False, False, False, False,\n",
        "       False, False, False], dtype=bool)"
       ]
      }
     ],
     "prompt_number": 156
    },
    {
     "cell_type": "markdown",
     "metadata": {},
     "source": [
      "- <b> Answer: There are no points outside the outter fences. "
     ]
    },
    {
     "cell_type": "markdown",
     "metadata": {},
     "source": [
      "e. 95% Confidence Limit\n",
      "---"
     ]
    },
    {
     "cell_type": "code",
     "collapsed": false,
     "input": [
      "(1.58*IQR)/sqrt(21)"
     ],
     "language": "python",
     "metadata": {},
     "outputs": [
      {
       "metadata": {},
       "output_type": "pyout",
       "prompt_number": 157,
       "text": [
        "1.0171135863899603"
       ]
      }
     ],
     "prompt_number": 157
    },
    {
     "cell_type": "markdown",
     "metadata": {},
     "source": [
      "- <b>Answer: CL = 15.7 $\\pm$ 1</b> "
     ]
    },
    {
     "cell_type": "markdown",
     "metadata": {},
     "source": [
      "3. Analyze the Generational Gap\n",
      "---"
     ]
    },
    {
     "cell_type": "code",
     "collapsed": false,
     "input": [
      "students = [170.2, 182.9, 170.2, 165.1, 172.7, 167.6, 162.6, 162.5, 172.7, 157.5, 152.4, 172.4, 165.4, 168.3, 160.0, 165.0, 170.5, 172.0, 168.4]"
     ],
     "language": "python",
     "metadata": {},
     "outputs": [],
     "prompt_number": 74
    },
    {
     "cell_type": "code",
     "collapsed": false,
     "input": [
      "mothers = [162.6, 170.7, 180.3, 157.5, 160.0, 167.6, 167.6, 167.6, 165.1, 152.4, 152.4, 162.44, 168.5, 158.4, 165.1, 163.3, 165.5, 162.7, 160.9]"
     ],
     "language": "python",
     "metadata": {},
     "outputs": [],
     "prompt_number": 80
    },
    {
     "cell_type": "code",
     "collapsed": false,
     "input": [
      "students = np.array(students)\n",
      "mothers = np.array(mothers)"
     ],
     "language": "python",
     "metadata": {},
     "outputs": [],
     "prompt_number": 176
    },
    {
     "cell_type": "code",
     "collapsed": false,
     "input": [
      "hist(mothers, alpha=0.5, color='black')\n",
      "hist(students, alpha=0.5)"
     ],
     "language": "python",
     "metadata": {},
     "outputs": [
      {
       "metadata": {},
       "output_type": "pyout",
       "prompt_number": 177,
       "text": [
        "(array([ 1.,  1.,  1.,  2.,  4.,  5.,  4.,  0.,  0.,  1.]),\n",
        " array([ 152.4 ,  155.45,  158.5 ,  161.55,  164.6 ,  167.65,  170.7 ,\n",
        "        173.75,  176.8 ,  179.85,  182.9 ]),\n",
        " <a list of 10 Patch objects>)"
       ]
      },
      {
       "metadata": {},
       "output_type": "display_data",
       "png": "[encoded data removed]",
       "text": [
        "<matplotlib.figure.Figure at 0x9c24780>"
       ]
      }
     ],
     "prompt_number": 177
    },
    {
     "cell_type": "markdown",
     "metadata": {},
     "source": [
      "a. Letter Value Diagrams\n",
      "---"
     ]
    },
    {
     "cell_type": "code",
     "collapsed": false,
     "input": [
      "m = 20.0/2\n",
      "q3 = 20.0*(3.0/4)\n",
      "q1 = 20.0/4.0\n",
      "print m\n",
      "print q1\n",
      "print q3"
     ],
     "language": "python",
     "metadata": {},
     "outputs": [
      {
       "output_type": "stream",
       "stream": "stdout",
       "text": [
        "10.0\n",
        "5.0\n",
        "15.0\n"
       ]
      }
     ],
     "prompt_number": 124
    },
    {
     "cell_type": "code",
     "collapsed": false,
     "input": [
      "mother_e_min = np.min(mothers)\n",
      "mother_e_max = np.max(mothers)\n",
      "print mother_e_min\n",
      "print mother_e_max\n",
      "mother_q_min = 160.0\n",
      "mother_q_max = 168.0"
     ],
     "language": "python",
     "metadata": {},
     "outputs": [
      {
       "output_type": "stream",
       "stream": "stdout",
       "text": [
        "152.4\n",
        "180.3\n"
       ]
      }
     ],
     "prompt_number": 113
    },
    {
     "cell_type": "code",
     "collapsed": false,
     "input": [
      "print (mother_q_min+mother_q_max)/2\n",
      "print (mother_e_min+mother_e_max)/2"
     ],
     "language": "python",
     "metadata": {},
     "outputs": [
      {
       "output_type": "stream",
       "stream": "stdout",
       "text": [
        "164.0\n",
        "166.35\n"
       ]
      }
     ],
     "prompt_number": 115
    },
    {
     "cell_type": "code",
     "collapsed": false,
     "input": [
      "print mother_q_max - mother_q_min\n",
      "print mother_e_max - mother_e_min"
     ],
     "language": "python",
     "metadata": {},
     "outputs": [
      {
       "output_type": "stream",
       "stream": "stdout",
       "text": [
        "8.0\n",
        "27.9\n"
       ]
      }
     ],
     "prompt_number": 116
    },
    {
     "cell_type": "markdown",
     "metadata": {},
     "source": [
      "<b><u>Mothers Height Data</u></b>\n",
      "<table>\n",
      "<tr>\n",
      "<th>Letter</th>\n",
      "<th>Depth</th>\n",
      "<th>Lower</th>\n",
      "<th>Median</th>\n",
      "<th>Upper</th>\n",
      "<th>Mid</th>\n",
      "<th>Spread</th>\n",
      "</tr>\n",
      "<tr>\n",
      "<td>M</td>\n",
      "<td>10</td>\n",
      "<td></td>\n",
      "<td>163</td>\n",
      "<td></td>\n",
      "<td>163</td>\n",
      "<td></td>\n",
      "</tr>\n",
      "<tr>\n",
      "<td>Q</td>\n",
      "<td>5 and 15</td>\n",
      "<td>160.0</td>\n",
      "<td></td>\n",
      "<td>168.0</td>\n",
      "<td>164.0</td>\n",
      "<td>8.0</td>\n",
      "</tr>\n",
      "<tr>\n",
      "<td>1 (extreme)</td>\n",
      "<td>1 and 19</td>\n",
      "<td>152.4</td>\n",
      "<td></td>\n",
      "<td>180.3</td>\n",
      "<td>166.35</td>\n",
      "<td>27.9</td>\n",
      "</tr>\n",
      "</table>"
     ]
    },
    {
     "cell_type": "code",
     "collapsed": false,
     "input": [
      "student_e_min = np.min(students)\n",
      "student_e_max = np.max(students)\n",
      "print student_e_min\n",
      "print student_e_max\n",
      "student_q_max = 172\n",
      "student_q_min = 163"
     ],
     "language": "python",
     "metadata": {},
     "outputs": [
      {
       "output_type": "stream",
       "stream": "stdout",
       "text": [
        "152.4\n",
        "182.9\n"
       ]
      }
     ],
     "prompt_number": 118
    },
    {
     "cell_type": "code",
     "collapsed": false,
     "input": [
      "print (student_q_max + student_q_min)/2.0\n",
      "print (student_e_max + student_e_min)/2.0"
     ],
     "language": "python",
     "metadata": {},
     "outputs": [
      {
       "output_type": "stream",
       "stream": "stdout",
       "text": [
        "167.5\n",
        "167.65\n"
       ]
      }
     ],
     "prompt_number": 120
    },
    {
     "cell_type": "code",
     "collapsed": false,
     "input": [
      "print student_q_max - student_q_min\n",
      "print student_e_max - student_e_min"
     ],
     "language": "python",
     "metadata": {},
     "outputs": [
      {
       "output_type": "stream",
       "stream": "stdout",
       "text": [
        "9\n",
        "30.5\n"
       ]
      }
     ],
     "prompt_number": 122
    },
    {
     "cell_type": "markdown",
     "metadata": {},
     "source": [
      "<b><u>Students Height Data</u></b>\n",
      "\n",
      "<table>\n",
      "<tr>\n",
      "<th>Letter</th>\n",
      "<th>Depth</th>\n",
      "<th>Lower</th>\n",
      "<th>Median</th>\n",
      "<th>Upper</th>\n",
      "<th>Mid</th>\n",
      "<th>Spread</th>\n",
      "</tr>\n",
      "<tr>\n",
      "<td>M</td>\n",
      "<td>10</td>\n",
      "<td></td>\n",
      "<td>168</td>\n",
      "<td></td>\n",
      "<td>168</td>\n",
      "<td></td>\n",
      "</tr>\n",
      "<tr>\n",
      "<td>Q</td>\n",
      "<td>5 and 15</td>\n",
      "<td>163.0</td>\n",
      "<td></td>\n",
      "<td>172.0</td>\n",
      "<td>167.5</td>\n",
      "<td>9.0</td>\n",
      "</tr>\n",
      "<tr>\n",
      "<td>1 (extreme)</td>\n",
      "<td>1 and 19</td>\n",
      "<td>152.4</td>\n",
      "<td></td>\n",
      "<td>182.9</td>\n",
      "<td>167.65</td>\n",
      "<td>30.5</td>\n",
      "</tr>\n",
      "</table>"
     ]
    },
    {
     "cell_type": "markdown",
     "metadata": {},
     "source": [
      "b. Calculating statistics\n",
      "---"
     ]
    },
    {
     "cell_type": "markdown",
     "metadata": {},
     "source": [
      "<b><u>The Mothers Data</u></b>"
     ]
    },
    {
     "cell_type": "code",
     "collapsed": false,
     "input": [
      "q1m = 160.0\n",
      "q3m = 168.0\n",
      "iqrm = q3m-q1m\n",
      "print iqrm"
     ],
     "language": "python",
     "metadata": {},
     "outputs": [
      {
       "output_type": "stream",
       "stream": "stdout",
       "text": [
        "8.0\n"
       ]
      }
     ],
     "prompt_number": 192
    },
    {
     "cell_type": "markdown",
     "metadata": {},
     "source": [
      "* <b>Calculate the upper and lower inner fences"
     ]
    },
    {
     "cell_type": "code",
     "collapsed": false,
     "input": [
      "lif = q1m-1.5*iqrm\n",
      "lif"
     ],
     "language": "python",
     "metadata": {},
     "outputs": [
      {
       "metadata": {},
       "output_type": "pyout",
       "prompt_number": 166,
       "text": [
        "148.0"
       ]
      }
     ],
     "prompt_number": 166
    },
    {
     "cell_type": "markdown",
     "metadata": {},
     "source": [
      "* <b>Answer: LIF (mothers) = 148.0</b>"
     ]
    },
    {
     "cell_type": "code",
     "collapsed": false,
     "input": [
      "uif = q3m + 1.5*iqrm\n",
      "uif"
     ],
     "language": "python",
     "metadata": {},
     "outputs": [
      {
       "metadata": {},
       "output_type": "pyout",
       "prompt_number": 168,
       "text": [
        "180.0"
       ]
      }
     ],
     "prompt_number": 168
    },
    {
     "cell_type": "markdown",
     "metadata": {},
     "source": [
      "* <b>Answer: UIF (mothers) = 180.0"
     ]
    },
    {
     "cell_type": "markdown",
     "metadata": {},
     "source": [
      "* <b>Calculate the upper and lower outer fences"
     ]
    },
    {
     "cell_type": "code",
     "collapsed": false,
     "input": [
      "lof = q1m - 3*iqrm\n",
      "lof"
     ],
     "language": "python",
     "metadata": {},
     "outputs": [
      {
       "metadata": {},
       "output_type": "pyout",
       "prompt_number": 169,
       "text": [
        "136.0"
       ]
      }
     ],
     "prompt_number": 169
    },
    {
     "cell_type": "markdown",
     "metadata": {},
     "source": [
      "* <b>Answer: LOF (mothers) = 136.0"
     ]
    },
    {
     "cell_type": "code",
     "collapsed": false,
     "input": [
      "uof = q3m + 3*iqrm\n",
      "uof"
     ],
     "language": "python",
     "metadata": {},
     "outputs": [
      {
       "metadata": {},
       "output_type": "pyout",
       "prompt_number": 171,
       "text": [
        "192.0"
       ]
      }
     ],
     "prompt_number": 171
    },
    {
     "cell_type": "markdown",
     "metadata": {},
     "source": [
      "- <b>Answer: UOF (mothers) = 192.0"
     ]
    },
    {
     "cell_type": "markdown",
     "metadata": {},
     "source": [
      "* <b> What are the upper and lower adjacent values?"
     ]
    },
    {
     "cell_type": "code",
     "collapsed": false,
     "input": [
      "(mothers < lif)"
     ],
     "language": "python",
     "metadata": {},
     "outputs": [
      {
       "metadata": {},
       "output_type": "pyout",
       "prompt_number": 181,
       "text": [
        "array([False, False, False, False, False, False, False, False, False,\n",
        "       False, False, False, False, False, False, False, False, False, False], dtype=bool)"
       ]
      }
     ],
     "prompt_number": 181
    },
    {
     "cell_type": "code",
     "collapsed": false,
     "input": [
      "np.min(mothers)"
     ],
     "language": "python",
     "metadata": {},
     "outputs": [
      {
       "metadata": {},
       "output_type": "pyout",
       "prompt_number": 182,
       "text": [
        "152.40000000000001"
       ]
      }
     ],
     "prompt_number": 182
    },
    {
     "cell_type": "markdown",
     "metadata": {},
     "source": [
      "- <b>Answer: The lower adjacent value = 152.4"
     ]
    },
    {
     "cell_type": "code",
     "collapsed": false,
     "input": [
      "(mothers>uif)*mothers"
     ],
     "language": "python",
     "metadata": {},
     "outputs": [
      {
       "metadata": {},
       "output_type": "pyout",
       "prompt_number": 190,
       "text": [
        "array([   0. ,    0. ,  180.3,    0. ,    0. ,    0. ,    0. ,    0. ,\n",
        "          0. ,    0. ,    0. ,    0. ,    0. ,    0. ,    0. ,    0. ,\n",
        "          0. ,    0. ,    0. ])"
       ]
      }
     ],
     "prompt_number": 190
    },
    {
     "cell_type": "code",
     "collapsed": false,
     "input": [
      "mothers"
     ],
     "language": "python",
     "metadata": {},
     "outputs": [
      {
       "metadata": {},
       "output_type": "pyout",
       "prompt_number": 191,
       "text": [
        "array([ 162.6 ,  170.7 ,  180.3 ,  157.5 ,  160.  ,  167.6 ,  167.6 ,\n",
        "        167.6 ,  165.1 ,  152.4 ,  152.4 ,  162.44,  168.5 ,  158.4 ,\n",
        "        165.1 ,  163.3 ,  165.5 ,  162.7 ,  160.9 ])"
       ]
      }
     ],
     "prompt_number": 191
    },
    {
     "cell_type": "markdown",
     "metadata": {},
     "source": [
      "- <b>Answer: The upper adjacent value = 170.7"
     ]
    },
    {
     "cell_type": "markdown",
     "metadata": {},
     "source": [
      "* <b>Are there any analyses that are \"outside\"? If so, which ones?"
     ]
    },
    {
     "cell_type": "markdown",
     "metadata": {},
     "source": [
      "- <b> Answer: Yes, as shown a couple steps above, 180.3 is outside."
     ]
    },
    {
     "cell_type": "markdown",
     "metadata": {},
     "source": [
      "* <b>Are there any analyses that are \"far outside\"? If so, which?"
     ]
    },
    {
     "cell_type": "code",
     "collapsed": false,
     "input": [
      "mothers>uof"
     ],
     "language": "python",
     "metadata": {},
     "outputs": [
      {
       "metadata": {},
       "output_type": "pyout",
       "prompt_number": 195,
       "text": [
        "array([False, False, False, False, False, False, False, False, False,\n",
        "       False, False, False, False, False, False, False, False, False, False], dtype=bool)"
       ]
      }
     ],
     "prompt_number": 195
    },
    {
     "cell_type": "markdown",
     "metadata": {},
     "source": [
      "- <b> Answer: No, there are no data points far outside."
     ]
    },
    {
     "cell_type": "markdown",
     "metadata": {},
     "source": [
      "<b><u>The Students Data</u></b>"
     ]
    },
    {
     "cell_type": "code",
     "collapsed": false,
     "input": [
      "q1s = 163\n",
      "q3s = 172\n",
      "iqrs = q3s-q1s\n",
      "print iqrs"
     ],
     "language": "python",
     "metadata": {},
     "outputs": [
      {
       "output_type": "stream",
       "stream": "stdout",
       "text": [
        "9\n"
       ]
      }
     ],
     "prompt_number": 199
    },
    {
     "cell_type": "markdown",
     "metadata": {},
     "source": [
      "* <b>Calculate the upper and lower inner fences"
     ]
    },
    {
     "cell_type": "code",
     "collapsed": false,
     "input": [
      "lifs = q1s-1.5*iqrs\n",
      "lifs"
     ],
     "language": "python",
     "metadata": {},
     "outputs": [
      {
       "metadata": {},
       "output_type": "pyout",
       "prompt_number": 203,
       "text": [
        "149.5"
       ]
      }
     ],
     "prompt_number": 203
    },
    {
     "cell_type": "markdown",
     "metadata": {},
     "source": [
      "- <b>Answer: LIF (students) = 149.5</b>"
     ]
    },
    {
     "cell_type": "code",
     "collapsed": false,
     "input": [
      "uifs = q3s + 1.5*iqrs\n",
      "uifs"
     ],
     "language": "python",
     "metadata": {},
     "outputs": [
      {
       "metadata": {},
       "output_type": "pyout",
       "prompt_number": 205,
       "text": [
        "185.5"
       ]
      }
     ],
     "prompt_number": 205
    },
    {
     "cell_type": "markdown",
     "metadata": {},
     "source": [
      "- <b> Answer: UIF (students) = 185.5"
     ]
    },
    {
     "cell_type": "markdown",
     "metadata": {},
     "source": [
      "* <b>Calculate the upper and lower outer fences"
     ]
    },
    {
     "cell_type": "code",
     "collapsed": false,
     "input": [
      "lofs = q1s - 3*iqrs\n",
      "lofs"
     ],
     "language": "python",
     "metadata": {},
     "outputs": [
      {
       "metadata": {},
       "output_type": "pyout",
       "prompt_number": 201,
       "text": [
        "136"
       ]
      }
     ],
     "prompt_number": 201
    },
    {
     "cell_type": "markdown",
     "metadata": {},
     "source": [
      "- <b>Answer: LOF (students) = 136"
     ]
    },
    {
     "cell_type": "code",
     "collapsed": false,
     "input": [
      "uofs = q3s + 3*iqrs\n",
      "uofs"
     ],
     "language": "python",
     "metadata": {},
     "outputs": [
      {
       "metadata": {},
       "output_type": "pyout",
       "prompt_number": 207,
       "text": [
        "199"
       ]
      }
     ],
     "prompt_number": 207
    },
    {
     "cell_type": "markdown",
     "metadata": {},
     "source": [
      "- <b>Answer: UOF (students) = 199"
     ]
    },
    {
     "cell_type": "markdown",
     "metadata": {},
     "source": [
      "* <b> What are the upper and lower adjacent values?"
     ]
    },
    {
     "cell_type": "code",
     "collapsed": false,
     "input": [
      "students<lifs"
     ],
     "language": "python",
     "metadata": {},
     "outputs": [
      {
       "metadata": {},
       "output_type": "pyout",
       "prompt_number": 208,
       "text": [
        "array([False, False, False, False, False, False, False, False, False,\n",
        "       False, False, False, False, False, False, False, False, False, False], dtype=bool)"
       ]
      }
     ],
     "prompt_number": 208
    },
    {
     "cell_type": "code",
     "collapsed": false,
     "input": [
      "students.min()"
     ],
     "language": "python",
     "metadata": {},
     "outputs": [
      {
       "metadata": {},
       "output_type": "pyout",
       "prompt_number": 210,
       "text": [
        "152.40000000000001"
       ]
      }
     ],
     "prompt_number": 210
    },
    {
     "cell_type": "markdown",
     "metadata": {},
     "source": [
      "- <b>Answer: The lower adjacent value = 152.4"
     ]
    },
    {
     "cell_type": "code",
     "collapsed": false,
     "input": [
      "students>uifs"
     ],
     "language": "python",
     "metadata": {},
     "outputs": [
      {
       "metadata": {},
       "output_type": "pyout",
       "prompt_number": 211,
       "text": [
        "array([False, False, False, False, False, False, False, False, False,\n",
        "       False, False, False, False, False, False, False, False, False, False], dtype=bool)"
       ]
      }
     ],
     "prompt_number": 211
    },
    {
     "cell_type": "code",
     "collapsed": false,
     "input": [
      "students.max()"
     ],
     "language": "python",
     "metadata": {},
     "outputs": [
      {
       "metadata": {},
       "output_type": "pyout",
       "prompt_number": 212,
       "text": [
        "182.90000000000001"
       ]
      }
     ],
     "prompt_number": 212
    },
    {
     "cell_type": "markdown",
     "metadata": {},
     "source": [
      "* <b>Answer: The upper adjacent value = 182.9"
     ]
    },
    {
     "cell_type": "markdown",
     "metadata": {},
     "source": [
      "* <b> Are there any analyses that are outside? if so, which?\n",
      "\n",
      "\n",
      "\n",
      "\n",
      "* Answer: No, as shown above, there are no data points above the UIF or below the LIF.\n",
      "\n",
      "\n",
      "\n",
      "\n",
      "* Are there any analyses that are far outside? \n",
      "\n",
      "\n",
      "\n",
      "* Answer: Again, no. No data points exceed the inner fence therefore none exceed the outter fence either."
     ]
    },
    {
     "cell_type": "markdown",
     "metadata": {},
     "source": [
      "c. 95% Confidence\n",
      "---"
     ]
    },
    {
     "cell_type": "code",
     "collapsed": false,
     "input": [
      "(1.58*iqrm)/sqrt(19)"
     ],
     "language": "python",
     "metadata": {},
     "outputs": [
      {
       "metadata": {},
       "output_type": "pyout",
       "prompt_number": 214,
       "text": [
        "2.8998148761239007"
       ]
      }
     ],
     "prompt_number": 214
    },
    {
     "cell_type": "markdown",
     "metadata": {},
     "source": [
      "* <b>Answer: Mothers Data => 163 $\\pm$ 2.9"
     ]
    },
    {
     "cell_type": "code",
     "collapsed": false,
     "input": [
      "(1.58*iqrs)/sqrt(19)"
     ],
     "language": "python",
     "metadata": {},
     "outputs": [
      {
       "metadata": {},
       "output_type": "pyout",
       "prompt_number": 215,
       "text": [
        "3.2622917356393883"
       ]
      }
     ],
     "prompt_number": 215
    },
    {
     "cell_type": "markdown",
     "metadata": {},
     "source": [
      "* <b>Answer: Students Data => 168 $\\pm$ 3.3"
     ]
    },
    {
     "cell_type": "markdown",
     "metadata": {},
     "source": [
      "d. Do the Confidence Limits Overlap?\n",
      "---"
     ]
    },
    {
     "cell_type": "markdown",
     "metadata": {},
     "source": [
      "* <b>Answer: Yes, they overlap. I don't think that there is sufficient data to warrent drawing a conclusion of a statistically significant difference."
     ]
    },
    {
     "cell_type": "markdown",
     "metadata": {},
     "source": [
      "e. Draw notched box plots\n",
      "---\n",
      "(This will be done by hand after printing)"
     ]
    }
   ],
   "metadata": {}
  }
 ]
}